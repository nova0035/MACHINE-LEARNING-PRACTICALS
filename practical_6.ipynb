{
  "nbformat": 4,
  "nbformat_minor": 0,
  "metadata": {
    "colab": {
      "provenance": [],
      "authorship_tag": "ABX9TyNxPKymVzXezJXJR1Xvo7p9",
      "include_colab_link": true
    },
    "kernelspec": {
      "name": "python3",
      "display_name": "Python 3"
    },
    "language_info": {
      "name": "python"
    }
  },
  "cells": [
    {
      "cell_type": "markdown",
      "metadata": {
        "id": "view-in-github",
        "colab_type": "text"
      },
      "source": [
        "<a href=\"https://colab.research.google.com/github/nova0035/MACHINE-LEARNING-PRACTICALS/blob/main/practical_6.ipynb\" target=\"_parent\"><img src=\"https://colab.research.google.com/assets/colab-badge.svg\" alt=\"Open In Colab\"/></a>"
      ]
    },
    {
      "cell_type": "markdown",
      "source": [
        "Practical No.6: Write a Pandas program to implement following operatio"
      ],
      "metadata": {
        "id": "CZC1AqUCLy8d"
      }
    },
    {
      "cell_type": "code",
      "source": [
        "import numpy as np\n",
        "import pandas as pd"
      ],
      "metadata": {
        "id": "bncCLGIDL0Fl"
      },
      "execution_count": 3,
      "outputs": []
    },
    {
      "cell_type": "markdown",
      "source": [
        "- to convert a NumPy array to a Pandas series"
      ],
      "metadata": {
        "id": "1zfUkgb6MXNz"
      }
    },
    {
      "cell_type": "code",
      "source": [
        "print( pd.Series( np.array([1,2,3,4,5]) ) )"
      ],
      "metadata": {
        "colab": {
          "base_uri": "https://localhost:8080/"
        },
        "id": "NqxSa4IaMY1f",
        "outputId": "e026faca-be55-4108-b331-95a2f0ea45b5"
      },
      "execution_count": 6,
      "outputs": [
        {
          "output_type": "stream",
          "name": "stdout",
          "text": [
            "0    1\n",
            "1    2\n",
            "2    3\n",
            "3    4\n",
            "4    5\n",
            "dtype: int64\n"
          ]
        }
      ]
    },
    {
      "cell_type": "markdown",
      "source": [
        "- to convert the first column of a DataFrame as a Series\n"
      ],
      "metadata": {
        "id": "yHGH9F5YM4-x"
      }
    },
    {
      "cell_type": "code",
      "source": [
        "d = {\n",
        "    1:[1,2,3],\n",
        "    2:[4,5,6]\n",
        "};\n",
        "\n",
        "df = pd.DataFrame(d)\n",
        "\n",
        "print(pd.Series(df.loc[0]))"
      ],
      "metadata": {
        "colab": {
          "base_uri": "https://localhost:8080/"
        },
        "id": "WtQ_cY66NROf",
        "outputId": "b4eaea70-9392-475d-8b65-7c6f6dff42e2"
      },
      "execution_count": 10,
      "outputs": [
        {
          "output_type": "stream",
          "name": "stdout",
          "text": [
            "1    1\n",
            "2    4\n",
            "Name: 0, dtype: int64\n"
          ]
        }
      ]
    },
    {
      "cell_type": "markdown",
      "source": [
        "- to create the mean and standard deviation of the data of a given Series"
      ],
      "metadata": {
        "id": "i2TdgGBpOuHk"
      }
    },
    {
      "cell_type": "code",
      "source": [
        "series1 = pd.Series([1,4,5,34,6,32])\n",
        "\n",
        "print(series1.mean()) # mean\n",
        "\n",
        "print(series1.std()) # standard deviation"
      ],
      "metadata": {
        "colab": {
          "base_uri": "https://localhost:8080/"
        },
        "id": "U7EissAjOxa7",
        "outputId": "e11d71b5-6148-4418-ce40-4c361595d9bf"
      },
      "execution_count": 18,
      "outputs": [
        {
          "output_type": "stream",
          "name": "stdout",
          "text": [
            "3.0\n",
            "1.5811388300841898\n"
          ]
        }
      ]
    },
    {
      "cell_type": "markdown",
      "source": [
        "- to sort a given Series"
      ],
      "metadata": {
        "id": "QGIoc1knP2bH"
      }
    },
    {
      "cell_type": "code",
      "source": [
        "print(series1.sort_values())"
      ],
      "metadata": {
        "colab": {
          "base_uri": "https://localhost:8080/"
        },
        "id": "AlpYcEPpP6h2",
        "outputId": "638c2e91-090e-4b8d-884c-14d1c58a6039"
      },
      "execution_count": 19,
      "outputs": [
        {
          "output_type": "stream",
          "name": "stdout",
          "text": [
            "0    1\n",
            "1    2\n",
            "2    3\n",
            "3    4\n",
            "4    5\n",
            "dtype: int64\n"
          ]
        }
      ]
    }
  ]
}