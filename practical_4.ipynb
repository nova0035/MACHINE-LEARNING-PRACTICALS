{
  "nbformat": 4,
  "nbformat_minor": 0,
  "metadata": {
    "colab": {
      "provenance": [],
      "authorship_tag": "ABX9TyPm9qb/sK6qeVv8OSTHLRZ3",
      "include_colab_link": true
    },
    "kernelspec": {
      "name": "python3",
      "display_name": "Python 3"
    },
    "language_info": {
      "name": "python"
    }
  },
  "cells": [
    {
      "cell_type": "markdown",
      "metadata": {
        "id": "view-in-github",
        "colab_type": "text"
      },
      "source": [
        "<a href=\"https://colab.research.google.com/github/nova0035/MACHINE-LEARNING-PRACTICALS/blob/main/practical_4.ipynb\" target=\"_parent\"><img src=\"https://colab.research.google.com/assets/colab-badge.svg\" alt=\"Open In Colab\"/></a>"
      ]
    },
    {
      "cell_type": "markdown",
      "source": [
        "practical - 4 : Write a NumPy program to implement following operation"
      ],
      "metadata": {
        "id": "0TvU6fyOD7X3"
      }
    },
    {
      "cell_type": "code",
      "execution_count": 1,
      "metadata": {
        "id": "u4L1EdfZDn-W"
      },
      "outputs": [],
      "source": [
        "import numpy as np"
      ]
    },
    {
      "cell_type": "markdown",
      "source": [
        "- to add, subtract, multiply, divide arguments element-wise\n",
        "  - add\n"
      ],
      "metadata": {
        "id": "0UlA5yqBEDnj"
      }
    },
    {
      "cell_type": "code",
      "source": [
        "array = np.array([1,2,3,4,5,6])\n",
        "\n",
        "print(np.add(array,2))"
      ],
      "metadata": {
        "colab": {
          "base_uri": "https://localhost:8080/"
        },
        "id": "0HLfpmYCD6mY",
        "outputId": "dd1b4fbe-5285-46da-daf9-75f68b071728"
      },
      "execution_count": 2,
      "outputs": [
        {
          "output_type": "stream",
          "name": "stdout",
          "text": [
            "[3 4 5 6 7 8]\n"
          ]
        }
      ]
    },
    {
      "cell_type": "markdown",
      "source": [
        "\n",
        "  - substraction"
      ],
      "metadata": {
        "id": "D5w8NQrDEYhn"
      }
    },
    {
      "cell_type": "code",
      "source": [
        "print(np.subtract(array,1))"
      ],
      "metadata": {
        "colab": {
          "base_uri": "https://localhost:8080/"
        },
        "id": "7uMu1RETE0q0",
        "outputId": "7512ff04-4e87-4d23-af73-bde13d375f1e"
      },
      "execution_count": 6,
      "outputs": [
        {
          "output_type": "stream",
          "name": "stdout",
          "text": [
            "[0 1 2 3 4 5]\n"
          ]
        }
      ]
    },
    {
      "cell_type": "markdown",
      "source": [
        "- multiplication\n"
      ],
      "metadata": {
        "id": "oGzJZ6XxFOs5"
      }
    },
    {
      "cell_type": "code",
      "source": [
        "print(np.multiply(array,5))"
      ],
      "metadata": {
        "colab": {
          "base_uri": "https://localhost:8080/"
        },
        "id": "c2NurxcoFQxJ",
        "outputId": "8009f27b-b5a1-479d-da70-b7a9dae84b7c"
      },
      "execution_count": 7,
      "outputs": [
        {
          "output_type": "stream",
          "name": "stdout",
          "text": [
            "[ 5 10 15 20 25 30]\n"
          ]
        }
      ]
    },
    {
      "cell_type": "markdown",
      "source": [
        "- division"
      ],
      "metadata": {
        "id": "sGXKVDx4FX4o"
      }
    },
    {
      "cell_type": "code",
      "source": [
        "array2 = [2,4,6,8,10]\n",
        "\n",
        "print(np.divide(array2,2))"
      ],
      "metadata": {
        "colab": {
          "base_uri": "https://localhost:8080/"
        },
        "id": "juxi3KlrFaDY",
        "outputId": "223c39b3-a768-42af-d18b-cd782b06b4f3"
      },
      "execution_count": 9,
      "outputs": [
        {
          "output_type": "stream",
          "name": "stdout",
          "text": [
            "[1. 2. 3. 4. 5.]\n"
          ]
        }
      ]
    },
    {
      "cell_type": "markdown",
      "source": [
        "-  to round elements of the array to the nearest integer"
      ],
      "metadata": {
        "id": "4SQncPl4FBg7"
      }
    },
    {
      "cell_type": "code",
      "source": [
        "array3 = [1.2,4.5,34.1,45.6]\n",
        "\n",
        "print(np.round(array3))"
      ],
      "metadata": {
        "colab": {
          "base_uri": "https://localhost:8080/"
        },
        "id": "Di6hxQfiGkOQ",
        "outputId": "157a56f6-5af6-4eb1-a08d-4f6477facf78"
      },
      "execution_count": 10,
      "outputs": [
        {
          "output_type": "stream",
          "name": "stdout",
          "text": [
            "[ 1.  4. 34. 46.]\n"
          ]
        }
      ]
    },
    {
      "cell_type": "markdown",
      "source": [
        "- to calculate mean across dimension, in a 2D numpy array"
      ],
      "metadata": {
        "id": "HzgjfbK9HE2j"
      }
    },
    {
      "cell_type": "code",
      "source": [
        "array4 = [[1,2,3],[4,5,6],[7,8,9]]\n",
        "\n",
        "print(np.mean(array4,axis=0))\n",
        "print(np.mean(array4,axis=1))"
      ],
      "metadata": {
        "colab": {
          "base_uri": "https://localhost:8080/"
        },
        "id": "oI-axCYSHJmu",
        "outputId": "f37baf46-e93f-4697-9af7-cef937c4688b"
      },
      "execution_count": 13,
      "outputs": [
        {
          "output_type": "stream",
          "name": "stdout",
          "text": [
            "[4. 5. 6.]\n",
            "[2. 5. 8.]\n"
          ]
        }
      ]
    },
    {
      "cell_type": "markdown",
      "source": [
        "- to calculate the difference between neighboring elements, element-wise of a\n",
        "given array"
      ],
      "metadata": {
        "id": "VTsJfNrUIB1U"
      }
    },
    {
      "cell_type": "code",
      "source": [
        "array5 = np.array([12,45,65,80,97,145])\n",
        "\n",
        "print(np.diff(array5))"
      ],
      "metadata": {
        "colab": {
          "base_uri": "https://localhost:8080/"
        },
        "id": "Q0_TT7rAIDOs",
        "outputId": "9682cd52-69ef-4d49-c757-9bdae8a72366"
      },
      "execution_count": 16,
      "outputs": [
        {
          "output_type": "stream",
          "name": "stdout",
          "text": [
            "[33 20 15 17 48]\n"
          ]
        }
      ]
    }
  ]
}