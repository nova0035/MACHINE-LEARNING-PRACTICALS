{
  "nbformat": 4,
  "nbformat_minor": 0,
  "metadata": {
    "colab": {
      "provenance": [],
      "authorship_tag": "ABX9TyP6k1btFDiqptrjRbmLn/tH",
      "include_colab_link": true
    },
    "kernelspec": {
      "name": "python3",
      "display_name": "Python 3"
    },
    "language_info": {
      "name": "python"
    }
  },
  "cells": [
    {
      "cell_type": "markdown",
      "metadata": {
        "id": "view-in-github",
        "colab_type": "text"
      },
      "source": [
        "<a href=\"https://colab.research.google.com/github/nova0035/MACHINE-LEARNING-PRACTICALS/blob/main/Practical-2.ipynb\" target=\"_parent\"><img src=\"https://colab.research.google.com/assets/colab-badge.svg\" alt=\"Open In Colab\"/></a>"
      ]
    },
    {
      "cell_type": "markdown",
      "source": [
        "Practical 2 :\n",
        "\n",
        "- to convert a list of numeric values into a one-dimensional NumPy array"
      ],
      "metadata": {
        "id": "bT2t-ZxXjC5u"
      }
    },
    {
      "cell_type": "code",
      "source": [
        "import numpy as np"
      ],
      "metadata": {
        "id": "RhPDvrpimIsu"
      },
      "execution_count": null,
      "outputs": []
    },
    {
      "cell_type": "code",
      "source": [
        "numpy_array = np.array([1,2,3,4,5])\n",
        "\n",
        "print(type(numpy_array),\"\\n\",numpy_array)"
      ],
      "metadata": {
        "colab": {
          "base_uri": "https://localhost:8080/"
        },
        "id": "eWy1obOFgeH7",
        "outputId": "56bad074-933e-4c95-80c0-f8a024b67110"
      },
      "execution_count": null,
      "outputs": [
        {
          "output_type": "stream",
          "name": "stdout",
          "text": [
            "<class 'numpy.ndarray'> \n",
            " [1 2 3 4 5]\n"
          ]
        }
      ]
    },
    {
      "cell_type": "markdown",
      "source": [
        "- to create a 3x3 matrix with values ranging from 2 to 10"
      ],
      "metadata": {
        "id": "pgNZHN4HniJl"
      }
    },
    {
      "cell_type": "code",
      "source": [
        "print(np.arange(2,11).reshape(3,3))"
      ],
      "metadata": {
        "colab": {
          "base_uri": "https://localhost:8080/"
        },
        "id": "Xpx494Cdnkpp",
        "outputId": "8dd08013-ad88-4143-a031-e2c792f3b1f5"
      },
      "execution_count": null,
      "outputs": [
        {
          "output_type": "stream",
          "name": "stdout",
          "text": [
            "[[ 2  3  4]\n",
            " [ 5  6  7]\n",
            " [ 8  9 10]]\n"
          ]
        }
      ]
    },
    {
      "cell_type": "markdown",
      "source": [
        "- Append Values At The End Of An Array"
      ],
      "metadata": {
        "id": "M9IuRBNUlMgd"
      }
    },
    {
      "cell_type": "code",
      "source": [
        "print(np.append(numpy_array,[6,7]))"
      ],
      "metadata": {
        "colab": {
          "base_uri": "https://localhost:8080/"
        },
        "id": "ss4wRw2tlR3P",
        "outputId": "80231d31-0026-4393-b165-fba184240505"
      },
      "execution_count": null,
      "outputs": [
        {
          "output_type": "stream",
          "name": "stdout",
          "text": [
            "[1 2 3 4 5 6 7]\n"
          ]
        }
      ]
    },
    {
      "cell_type": "markdown",
      "source": [
        "- to create another shape from an array without changing its data (3 x 2 to 2 x 3)"
      ],
      "metadata": {
        "id": "bJ1ZRSQKoxrw"
      }
    },
    {
      "cell_type": "code",
      "source": [
        "array2 = np.array([[1,2],[3,4],[5,6]]).reshape(2,3)\n",
        "print(array2)"
      ],
      "metadata": {
        "colab": {
          "base_uri": "https://localhost:8080/"
        },
        "id": "YofDMb0uo9yy",
        "outputId": "de5827b1-746b-44c6-b74a-0ec404dd6848"
      },
      "execution_count": null,
      "outputs": [
        {
          "output_type": "stream",
          "name": "stdout",
          "text": [
            "[[1 2 3]\n",
            " [4 5 6]]\n"
          ]
        }
      ]
    }
  ]
}