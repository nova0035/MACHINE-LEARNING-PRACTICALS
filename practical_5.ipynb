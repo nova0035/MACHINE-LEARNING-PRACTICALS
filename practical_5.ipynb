{
  "nbformat": 4,
  "nbformat_minor": 0,
  "metadata": {
    "colab": {
      "provenance": [],
      "authorship_tag": "ABX9TyOhbEtwi4mKB/WJcSw9o6zh",
      "include_colab_link": true
    },
    "kernelspec": {
      "name": "python3",
      "display_name": "Python 3"
    },
    "language_info": {
      "name": "python"
    }
  },
  "cells": [
    {
      "cell_type": "markdown",
      "metadata": {
        "id": "view-in-github",
        "colab_type": "text"
      },
      "source": [
        "<a href=\"https://colab.research.google.com/github/nova0035/MACHINE-LEARNING-PRACTICALS/blob/main/practical_5.ipynb\" target=\"_parent\"><img src=\"https://colab.research.google.com/assets/colab-badge.svg\" alt=\"Open In Colab\"/></a>"
      ]
    },
    {
      "cell_type": "markdown",
      "source": [
        "Practical No.5: Write a NumPy program to implement following operation"
      ],
      "metadata": {
        "id": "XI8MfX61JH0m"
      }
    },
    {
      "cell_type": "code",
      "source": [
        "import numpy as np"
      ],
      "metadata": {
        "id": "f0RqpidQJR-U"
      },
      "execution_count": 1,
      "outputs": []
    },
    {
      "cell_type": "markdown",
      "source": [
        "- to find the maximum and minimum value of a given flattened array"
      ],
      "metadata": {
        "id": "i6ska1maJU6e"
      }
    },
    {
      "cell_type": "code",
      "source": [
        "array = np.array([1,2,4,5,6])\n",
        "\n",
        "print(np.amin(array)) # minimum\n",
        "print(np.amax(array)) # maximum"
      ],
      "metadata": {
        "colab": {
          "base_uri": "https://localhost:8080/"
        },
        "id": "ScL1bvmlJXL4",
        "outputId": "c24959c5-b555-4069-b94c-b9faf243fd5d"
      },
      "execution_count": 4,
      "outputs": [
        {
          "output_type": "stream",
          "name": "stdout",
          "text": [
            "1\n",
            "6\n"
          ]
        }
      ]
    },
    {
      "cell_type": "markdown",
      "source": [
        "- to compute the mean, standard deviation, and variance of a given array along the\n",
        "second axis"
      ],
      "metadata": {
        "id": "0zDLTdq0J5g7"
      }
    },
    {
      "cell_type": "code",
      "source": [
        "array2 = np.array([[1,2,3],[4,5,6],[7,8,9]])\n",
        "\n",
        "print(\"Mean Of 2nd Axis = \",np.mean(array2,axis = 1))\n",
        "print(\"Standard Deviation Of 2nd Axis = \",np.std(array2,axis = 1))\n",
        "print(\"Variance Of 2nd Axis = \",np.var(array2,axis = 1))"
      ],
      "metadata": {
        "colab": {
          "base_uri": "https://localhost:8080/"
        },
        "id": "oE5d3Bg8KWl_",
        "outputId": "b74ed62a-b341-4107-d0a2-e8045ab5db35"
      },
      "execution_count": 7,
      "outputs": [
        {
          "output_type": "stream",
          "name": "stdout",
          "text": [
            "Mean Of 2nd Axis =  [2. 5. 8.]\n",
            "Standard Deviation Of 2nd Axis =  [0.81649658 0.81649658 0.81649658]\n",
            "Variance Of 2nd Axis =  [0.66666667 0.66666667 0.66666667]\n"
          ]
        }
      ]
    }
  ]
}